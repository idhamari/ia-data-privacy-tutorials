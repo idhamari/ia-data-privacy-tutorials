{
  "nbformat": 4,
  "nbformat_minor": 0,
  "metadata": {
    "colab": {
      "provenance": [],
      "toc_visible": true,
      "authorship_tag": "ABX9TyNn5udq4jRhjPrGBNr7XCSm",
      "include_colab_link": true
    },
    "kernelspec": {
      "name": "python3",
      "display_name": "Python 3"
    },
    "language_info": {
      "name": "python"
    }
  },
  "cells": [
    {
      "cell_type": "markdown",
      "metadata": {
        "id": "view-in-github",
        "colab_type": "text"
      },
      "source": [
        "<a href=\"https://colab.research.google.com/github/idhamari/ia-data-privacy-tutorials/blob/main/IA_Ano00.ipynb\" target=\"_parent\"><img src=\"https://colab.research.google.com/assets/colab-badge.svg\" alt=\"Open In Colab\"/></a>"
      ]
    },
    {
      "cell_type": "markdown",
      "source": [
        "\n",
        "\n",
        "# Data Protection and Privacy\n",
        "\n",
        "\n",
        "\n",
        "Sources:\n",
        "\n",
        "* [Guide to Data Privacy: Models, Technologies, Solutions.](https://www.springerprofessional.de/guide-to-data-privacy/23677094)\n",
        "* [Privacy and Data Protection by Design.](file:///C:/Users/aldhaima/Downloads/Privacy%20and%20Data%20Protection%20by%20Design.pdf)\n",
        "\n",
        "**About:**\n",
        "\n",
        "This a practical tutorial about data privacy that can be used as a course in data privacy or anonymization. The tutorial includes Python and [Arx](https://arx.deidentifier.org) simple examples that helps understanding different methods."
      ],
      "metadata": {
        "id": "AUFKIUB6AV7A"
      }
    },
    {
      "cell_type": "markdown",
      "source": [
        "## Contents:\n",
        "\n",
        "These are tentative contents and subject to changed.\n",
        "\n",
        "1. [Introdution.]()\n",
        "2. [Data Security]()\n",
        "   * [2.1 Machine Learning]()\n",
        "   * [2.2 Cryptography]()   \n",
        "3. [Data Privacy]()\n",
        "   * [3.1 Data Attacks]()\n",
        "     * [3.1.1  Membership disclosure.]()\n",
        "     * [3.1.2  Attribute disclosure.]()\n",
        "     * [3.1.3  Identity disclosure.]()     \n",
        "   * [3.2 Privacy Models]()\n",
        "      * [3.2.1 k-Anonymity.]()\n",
        "      * [3.2.2 K-Map.]()\n",
        "      * [3.2.3 Average risk.]()\n",
        "      * [3.2.4 Population uniqueness.]()\n",
        "      * [3.2.5 Sample uniqueness.]()\n",
        "      * [3.2.6 ℓ-Diversity.]()\n",
        "      * [3.2.7 t-Closeness.]()\n",
        "      * [3.2.8 δ-Disclosure privacy.]()\n",
        "      * [3.2.9 β-Likeness.]()\n",
        "      * [3.2.10 δ-Presence.]()\n",
        "      * [3.2.11 Profitability.]()\n",
        "      * [3.2.12 Differential privacy.]()\n",
        "4. [Advanced topics.]()\n",
        "      * [4.1 Recent related publications.]()\n",
        "      \n",
        "\n"
      ],
      "metadata": {
        "id": "OxTH5iVxApuI"
      }
    }
  ]
}